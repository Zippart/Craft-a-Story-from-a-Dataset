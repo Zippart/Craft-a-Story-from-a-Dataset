{
 "cells": [
  {
   "cell_type": "code",
   "execution_count": 1,
   "id": "1940e358-0889-4263-9244-ad007ba8ac2d",
   "metadata": {},
   "outputs": [],
   "source": [
    "import pandas as pd\n",
    "import matplotlib.pyplot as plt\n",
    "import seaborn as sns\n",
    "\n",
    "sns.set()"
   ]
  },
  {
   "cell_type": "code",
   "execution_count": 200,
   "id": "96221709-5a24-4644-9a9b-fe752d9b7b46",
   "metadata": {},
   "outputs": [],
   "source": [
    "bite = pd.read_csv('Health_AnimalBites.csv')\n",
    "\n",
    "# Louisville Metro Department of Public Health and Wellness\n",
    "# https://www.kaggle.com/datasets/rtatman/animal-bites"
   ]
  },
  {
   "cell_type": "code",
   "execution_count": 4,
   "id": "0d003074-95d3-432d-a453-3457634fa1ca",
   "metadata": {},
   "outputs": [
    {
     "data": {
      "text/plain": [
       "array(['DOG', 'CAT', 'BAT', 'RACCOON', 'OTHER', 'RABBIT', nan, 'HORSE',\n",
       "       'SKUNK', 'FERRET'], dtype=object)"
      ]
     },
     "execution_count": 4,
     "metadata": {},
     "output_type": "execute_result"
    }
   ],
   "source": [
    "bite['SpeciesIDDesc'].unique()"
   ]
  },
  {
   "cell_type": "code",
   "execution_count": 5,
   "id": "f9f1a017-6208-4d32-b4a5-6837b9068cf4",
   "metadata": {},
   "outputs": [
    {
     "data": {
      "text/plain": [
       "bite_date             317\n",
       "SpeciesIDDesc         118\n",
       "BreedIDDesc          5244\n",
       "GenderIDDesc         2526\n",
       "color                2577\n",
       "vaccination_yrs      5265\n",
       "vaccination_date     4888\n",
       "victim_zip           1838\n",
       "AdvIssuedYNDesc      6438\n",
       "WhereBittenIDDesc     616\n",
       "quarantine_date      6983\n",
       "DispositionIDDesc    7468\n",
       "head_sent_date       8608\n",
       "release_date         7558\n",
       "ResultsIDDesc        7460\n",
       "dtype: int64"
      ]
     },
     "execution_count": 5,
     "metadata": {},
     "output_type": "execute_result"
    }
   ],
   "source": [
    "bite.isna().sum()"
   ]
  },
  {
   "cell_type": "code",
   "execution_count": 9,
   "id": "d010aa1c-d3e2-4820-8eca-3e61ed15f6df",
   "metadata": {},
   "outputs": [
    {
     "data": {
      "text/plain": [
       "array(['40229', '40218', '40219', nan, '40211', '40203', '40215', '40210',\n",
       "       '40206', '40291', '40272', '40165', '40299', '40220', '40241',\n",
       "       '40228', '40216', '40071', '40031', '40217', '40222', '40214',\n",
       "       '40204', '40208', '40205', '40207', '40223', '40258', '40245',\n",
       "       '42784', '40118', '46011', '40212', '40059', '40014', '40242',\n",
       "       '47150', '40047', '40243', '40006', '40213', '87604', '42027',\n",
       "       '47106', '48162', '47129', '40023', '47119-9567', '47135', '47130',\n",
       "       '40202', '40108', '40252-0551', '40004', '42441', '40156', '40160',\n",
       "       '40013', '40209', '47164', '61822', '45140', '40077', '47111',\n",
       "       '40509', '40505', '42701', '42690-2', '20151', '40231', '41472',\n",
       "       '40150', '40041', '47172', '40019', '47112', '47142', '77701',\n",
       "       '40270', '47122', '40062', '41016', '40027', '40331', '40025',\n",
       "       '40065', '47119', '40422', '40268', '54568', '40033', '42765',\n",
       "       '47166', '42718', '45331', '40037', '29455', '95831', '40142',\n",
       "       '13440', '47161', '40056', '42211', '44136', '47165', '40008',\n",
       "       '24091', '46131', '78258', '30305', '47250', '14226', '40175',\n",
       "       '47630', '40601', '60622', '53705', '42776', '40120', '40256',\n",
       "       '44333', '40227', '40177', '42141', '47138', '40017', '42754',\n",
       "       '41018', '40069', '40026', '27050', '98105', '37075', '40162',\n",
       "       '40475', '42104', '42743', '40504', '40201', '50216', '40046',\n",
       "       '30067', '39571', '34994', '60643', '33418', '22989', '11215',\n",
       "       '19341', '42539', '40109', '42001', '47454', '48306', '47905',\n",
       "       '63119', '79904', '70811', '46733', '40076', '28654', '37228',\n",
       "       '52349', '37601', '65809', '46107', '38585', '92037', '37204',\n",
       "       '40057', '48872', '84103', '36092', '41008', '29717', '40146',\n",
       "       '42064', '6107', '15237', '42086', '20016', '36542', '47136',\n",
       "       '47114', '45014', '40022', '36877', '28103', '32162', '40226',\n",
       "       '99674', '40511', '77493', '37013', '40067', '36362', '46227',\n",
       "       '40261', '47126', '40343', '34952', '53704', '40178', '40011',\n",
       "       '40526', '45036', '46219', '46032', '40271', '40121', '47725',\n",
       "       '45142', '42157', '60610', '42712', '42303', '40070', '80020',\n",
       "       '27106', '73538', '42726', '24248', '47304', '40117', '43019',\n",
       "       '40515', '37087', '34949', '41091', '77598', '99037', '43228',\n",
       "       '89011', '32259'], dtype=object)"
      ]
     },
     "execution_count": 9,
     "metadata": {},
     "output_type": "execute_result"
    }
   ],
   "source": [
    "bite['victim_zip'].unique()"
   ]
  },
  {
   "cell_type": "code",
   "execution_count": 32,
   "id": "2bbdc707-df72-464f-97aa-4d60e14d27b5",
   "metadata": {},
   "outputs": [],
   "source": [
    "search = SearchEngine()\n",
    "\n",
    "bite['state'] = None\n",
    "\n",
    "for index, zip_code in enumerate(bite['victim_zip']):\n",
    "    result = search.by_zipcode(zip_code)\n",
    "    if result:\n",
    "        bite.at[index, 'state'] = result.state"
   ]
  },
  {
   "cell_type": "code",
   "execution_count": 34,
   "id": "37c6d699-a775-4ecb-8a1a-d92f6bcf2b89",
   "metadata": {},
   "outputs": [
    {
     "data": {
      "text/plain": [
       "array(['KY', None, 'IN', 'MI', 'IL', 'OH', 'VA', 'TX', 'WI', 'SC', 'CA',\n",
       "       'NY', 'GA', 'NC', 'WA', 'TN', 'IA', 'MS', 'FL', 'PA', 'MO', 'LA',\n",
       "       'UT', 'AL', 'CT', 'DC', 'AK', 'CO', 'OK', 'NV'], dtype=object)"
      ]
     },
     "execution_count": 34,
     "metadata": {},
     "output_type": "execute_result"
    }
   ],
   "source": [
    "bite['state'].unique()"
   ]
  },
  {
   "cell_type": "code",
   "execution_count": 39,
   "id": "78fb9703-b2c1-4c6f-ba9a-f33193396475",
   "metadata": {},
   "outputs": [
    {
     "data": {
      "text/html": [
       "<div>\n",
       "<style scoped>\n",
       "    .dataframe tbody tr th:only-of-type {\n",
       "        vertical-align: middle;\n",
       "    }\n",
       "\n",
       "    .dataframe tbody tr th {\n",
       "        vertical-align: top;\n",
       "    }\n",
       "\n",
       "    .dataframe thead th {\n",
       "        text-align: right;\n",
       "    }\n",
       "</style>\n",
       "<table border=\"1\" class=\"dataframe\">\n",
       "  <thead>\n",
       "    <tr style=\"text-align: right;\">\n",
       "      <th></th>\n",
       "      <th>state</th>\n",
       "      <th>count</th>\n",
       "    </tr>\n",
       "  </thead>\n",
       "  <tbody>\n",
       "    <tr>\n",
       "      <th>0</th>\n",
       "      <td>AK</td>\n",
       "      <td>1</td>\n",
       "    </tr>\n",
       "    <tr>\n",
       "      <th>1</th>\n",
       "      <td>AL</td>\n",
       "      <td>4</td>\n",
       "    </tr>\n",
       "    <tr>\n",
       "      <th>2</th>\n",
       "      <td>CA</td>\n",
       "      <td>2</td>\n",
       "    </tr>\n",
       "    <tr>\n",
       "      <th>3</th>\n",
       "      <td>CO</td>\n",
       "      <td>1</td>\n",
       "    </tr>\n",
       "    <tr>\n",
       "      <th>4</th>\n",
       "      <td>CT</td>\n",
       "      <td>1</td>\n",
       "    </tr>\n",
       "    <tr>\n",
       "      <th>5</th>\n",
       "      <td>DC</td>\n",
       "      <td>1</td>\n",
       "    </tr>\n",
       "    <tr>\n",
       "      <th>6</th>\n",
       "      <td>FL</td>\n",
       "      <td>6</td>\n",
       "    </tr>\n",
       "    <tr>\n",
       "      <th>7</th>\n",
       "      <td>GA</td>\n",
       "      <td>2</td>\n",
       "    </tr>\n",
       "    <tr>\n",
       "      <th>8</th>\n",
       "      <td>IA</td>\n",
       "      <td>2</td>\n",
       "    </tr>\n",
       "    <tr>\n",
       "      <th>9</th>\n",
       "      <td>IL</td>\n",
       "      <td>4</td>\n",
       "    </tr>\n",
       "    <tr>\n",
       "      <th>10</th>\n",
       "      <td>IN</td>\n",
       "      <td>132</td>\n",
       "    </tr>\n",
       "    <tr>\n",
       "      <th>11</th>\n",
       "      <td>KY</td>\n",
       "      <td>6944</td>\n",
       "    </tr>\n",
       "    <tr>\n",
       "      <th>12</th>\n",
       "      <td>LA</td>\n",
       "      <td>1</td>\n",
       "    </tr>\n",
       "    <tr>\n",
       "      <th>13</th>\n",
       "      <td>MI</td>\n",
       "      <td>3</td>\n",
       "    </tr>\n",
       "    <tr>\n",
       "      <th>14</th>\n",
       "      <td>MO</td>\n",
       "      <td>2</td>\n",
       "    </tr>\n",
       "    <tr>\n",
       "      <th>15</th>\n",
       "      <td>MS</td>\n",
       "      <td>1</td>\n",
       "    </tr>\n",
       "    <tr>\n",
       "      <th>16</th>\n",
       "      <td>NC</td>\n",
       "      <td>4</td>\n",
       "    </tr>\n",
       "    <tr>\n",
       "      <th>17</th>\n",
       "      <td>NV</td>\n",
       "      <td>1</td>\n",
       "    </tr>\n",
       "    <tr>\n",
       "      <th>18</th>\n",
       "      <td>NY</td>\n",
       "      <td>3</td>\n",
       "    </tr>\n",
       "    <tr>\n",
       "      <th>19</th>\n",
       "      <td>OH</td>\n",
       "      <td>10</td>\n",
       "    </tr>\n",
       "    <tr>\n",
       "      <th>20</th>\n",
       "      <td>OK</td>\n",
       "      <td>1</td>\n",
       "    </tr>\n",
       "    <tr>\n",
       "      <th>21</th>\n",
       "      <td>PA</td>\n",
       "      <td>2</td>\n",
       "    </tr>\n",
       "    <tr>\n",
       "      <th>22</th>\n",
       "      <td>SC</td>\n",
       "      <td>2</td>\n",
       "    </tr>\n",
       "    <tr>\n",
       "      <th>23</th>\n",
       "      <td>TN</td>\n",
       "      <td>7</td>\n",
       "    </tr>\n",
       "    <tr>\n",
       "      <th>24</th>\n",
       "      <td>TX</td>\n",
       "      <td>5</td>\n",
       "    </tr>\n",
       "    <tr>\n",
       "      <th>25</th>\n",
       "      <td>UT</td>\n",
       "      <td>1</td>\n",
       "    </tr>\n",
       "    <tr>\n",
       "      <th>26</th>\n",
       "      <td>VA</td>\n",
       "      <td>4</td>\n",
       "    </tr>\n",
       "    <tr>\n",
       "      <th>27</th>\n",
       "      <td>WA</td>\n",
       "      <td>2</td>\n",
       "    </tr>\n",
       "    <tr>\n",
       "      <th>28</th>\n",
       "      <td>WI</td>\n",
       "      <td>3</td>\n",
       "    </tr>\n",
       "  </tbody>\n",
       "</table>\n",
       "</div>"
      ],
      "text/plain": [
       "   state  count\n",
       "0     AK      1\n",
       "1     AL      4\n",
       "2     CA      2\n",
       "3     CO      1\n",
       "4     CT      1\n",
       "5     DC      1\n",
       "6     FL      6\n",
       "7     GA      2\n",
       "8     IA      2\n",
       "9     IL      4\n",
       "10    IN    132\n",
       "11    KY   6944\n",
       "12    LA      1\n",
       "13    MI      3\n",
       "14    MO      2\n",
       "15    MS      1\n",
       "16    NC      4\n",
       "17    NV      1\n",
       "18    NY      3\n",
       "19    OH     10\n",
       "20    OK      1\n",
       "21    PA      2\n",
       "22    SC      2\n",
       "23    TN      7\n",
       "24    TX      5\n",
       "25    UT      1\n",
       "26    VA      4\n",
       "27    WA      2\n",
       "28    WI      3"
      ]
     },
     "execution_count": 39,
     "metadata": {},
     "output_type": "execute_result"
    }
   ],
   "source": [
    "state_counts = bite.groupby('state').size().reset_index(name='count')"
   ]
  },
  {
   "cell_type": "code",
   "execution_count": 78,
   "id": "f209c001-80ff-4ae9-9248-ef602ce1041c",
   "metadata": {},
   "outputs": [
    {
     "data": {
      "application/vnd.plotly.v1+json": {
       "config": {
        "plotlyServerURL": "https://plot.ly"
       },
       "data": [
        {
         "coloraxis": "coloraxis",
         "geo": "geo",
         "hovertemplate": "state=%{location}<br>Bite Victim Count=%{z}<extra></extra>",
         "locationmode": "USA-states",
         "locations": [
          "AK",
          "AL",
          "CA",
          "CO",
          "CT",
          "DC",
          "FL",
          "GA",
          "IA",
          "IL",
          "IN",
          "KY",
          "LA",
          "MI",
          "MO",
          "MS",
          "NC",
          "NV",
          "NY",
          "OH",
          "OK",
          "PA",
          "SC",
          "TN",
          "TX",
          "UT",
          "VA",
          "WA",
          "WI"
         ],
         "name": "",
         "type": "choropleth",
         "z": [
          1,
          4,
          2,
          1,
          1,
          1,
          6,
          2,
          2,
          4,
          132,
          6944,
          1,
          3,
          2,
          1,
          4,
          1,
          3,
          10,
          1,
          2,
          2,
          7,
          5,
          1,
          4,
          2,
          3
         ]
        }
       ],
       "layout": {
        "autosize": true,
        "coloraxis": {
         "colorbar": {
          "title": {
           "text": "Bite Victim Count"
          }
         },
         "colorscale": [
          [
           0,
           "rgb(255,255,204)"
          ],
          [
           0.125,
           "rgb(255,237,160)"
          ],
          [
           0.25,
           "rgb(254,217,118)"
          ],
          [
           0.375,
           "rgb(254,178,76)"
          ],
          [
           0.5,
           "rgb(253,141,60)"
          ],
          [
           0.625,
           "rgb(252,78,42)"
          ],
          [
           0.75,
           "rgb(227,26,28)"
          ],
          [
           0.875,
           "rgb(189,0,38)"
          ],
          [
           1,
           "rgb(128,0,38)"
          ]
         ]
        },
        "geo": {
         "center": {
          "lat": 38.43254741717282,
          "lon": -95.88355386466446
         },
         "domain": {
          "x": [
           0,
           1
          ],
          "y": [
           0,
           1
          ]
         },
         "projection": {
          "scale": 1
         },
         "scope": "usa",
         "showcoastlines": true
        },
        "legend": {
         "tracegroupgap": 0
        },
        "margin": {
         "t": 60
        },
        "template": {
         "data": {
          "bar": [
           {
            "error_x": {
             "color": "#2a3f5f"
            },
            "error_y": {
             "color": "#2a3f5f"
            },
            "marker": {
             "line": {
              "color": "#E5ECF6",
              "width": 0.5
             },
             "pattern": {
              "fillmode": "overlay",
              "size": 10,
              "solidity": 0.2
             }
            },
            "type": "bar"
           }
          ],
          "barpolar": [
           {
            "marker": {
             "line": {
              "color": "#E5ECF6",
              "width": 0.5
             },
             "pattern": {
              "fillmode": "overlay",
              "size": 10,
              "solidity": 0.2
             }
            },
            "type": "barpolar"
           }
          ],
          "carpet": [
           {
            "aaxis": {
             "endlinecolor": "#2a3f5f",
             "gridcolor": "white",
             "linecolor": "white",
             "minorgridcolor": "white",
             "startlinecolor": "#2a3f5f"
            },
            "baxis": {
             "endlinecolor": "#2a3f5f",
             "gridcolor": "white",
             "linecolor": "white",
             "minorgridcolor": "white",
             "startlinecolor": "#2a3f5f"
            },
            "type": "carpet"
           }
          ],
          "choropleth": [
           {
            "colorbar": {
             "outlinewidth": 0,
             "ticks": ""
            },
            "type": "choropleth"
           }
          ],
          "contour": [
           {
            "colorbar": {
             "outlinewidth": 0,
             "ticks": ""
            },
            "colorscale": [
             [
              0,
              "#0d0887"
             ],
             [
              0.1111111111111111,
              "#46039f"
             ],
             [
              0.2222222222222222,
              "#7201a8"
             ],
             [
              0.3333333333333333,
              "#9c179e"
             ],
             [
              0.4444444444444444,
              "#bd3786"
             ],
             [
              0.5555555555555556,
              "#d8576b"
             ],
             [
              0.6666666666666666,
              "#ed7953"
             ],
             [
              0.7777777777777778,
              "#fb9f3a"
             ],
             [
              0.8888888888888888,
              "#fdca26"
             ],
             [
              1,
              "#f0f921"
             ]
            ],
            "type": "contour"
           }
          ],
          "contourcarpet": [
           {
            "colorbar": {
             "outlinewidth": 0,
             "ticks": ""
            },
            "type": "contourcarpet"
           }
          ],
          "heatmap": [
           {
            "colorbar": {
             "outlinewidth": 0,
             "ticks": ""
            },
            "colorscale": [
             [
              0,
              "#0d0887"
             ],
             [
              0.1111111111111111,
              "#46039f"
             ],
             [
              0.2222222222222222,
              "#7201a8"
             ],
             [
              0.3333333333333333,
              "#9c179e"
             ],
             [
              0.4444444444444444,
              "#bd3786"
             ],
             [
              0.5555555555555556,
              "#d8576b"
             ],
             [
              0.6666666666666666,
              "#ed7953"
             ],
             [
              0.7777777777777778,
              "#fb9f3a"
             ],
             [
              0.8888888888888888,
              "#fdca26"
             ],
             [
              1,
              "#f0f921"
             ]
            ],
            "type": "heatmap"
           }
          ],
          "heatmapgl": [
           {
            "colorbar": {
             "outlinewidth": 0,
             "ticks": ""
            },
            "colorscale": [
             [
              0,
              "#0d0887"
             ],
             [
              0.1111111111111111,
              "#46039f"
             ],
             [
              0.2222222222222222,
              "#7201a8"
             ],
             [
              0.3333333333333333,
              "#9c179e"
             ],
             [
              0.4444444444444444,
              "#bd3786"
             ],
             [
              0.5555555555555556,
              "#d8576b"
             ],
             [
              0.6666666666666666,
              "#ed7953"
             ],
             [
              0.7777777777777778,
              "#fb9f3a"
             ],
             [
              0.8888888888888888,
              "#fdca26"
             ],
             [
              1,
              "#f0f921"
             ]
            ],
            "type": "heatmapgl"
           }
          ],
          "histogram": [
           {
            "marker": {
             "pattern": {
              "fillmode": "overlay",
              "size": 10,
              "solidity": 0.2
             }
            },
            "type": "histogram"
           }
          ],
          "histogram2d": [
           {
            "colorbar": {
             "outlinewidth": 0,
             "ticks": ""
            },
            "colorscale": [
             [
              0,
              "#0d0887"
             ],
             [
              0.1111111111111111,
              "#46039f"
             ],
             [
              0.2222222222222222,
              "#7201a8"
             ],
             [
              0.3333333333333333,
              "#9c179e"
             ],
             [
              0.4444444444444444,
              "#bd3786"
             ],
             [
              0.5555555555555556,
              "#d8576b"
             ],
             [
              0.6666666666666666,
              "#ed7953"
             ],
             [
              0.7777777777777778,
              "#fb9f3a"
             ],
             [
              0.8888888888888888,
              "#fdca26"
             ],
             [
              1,
              "#f0f921"
             ]
            ],
            "type": "histogram2d"
           }
          ],
          "histogram2dcontour": [
           {
            "colorbar": {
             "outlinewidth": 0,
             "ticks": ""
            },
            "colorscale": [
             [
              0,
              "#0d0887"
             ],
             [
              0.1111111111111111,
              "#46039f"
             ],
             [
              0.2222222222222222,
              "#7201a8"
             ],
             [
              0.3333333333333333,
              "#9c179e"
             ],
             [
              0.4444444444444444,
              "#bd3786"
             ],
             [
              0.5555555555555556,
              "#d8576b"
             ],
             [
              0.6666666666666666,
              "#ed7953"
             ],
             [
              0.7777777777777778,
              "#fb9f3a"
             ],
             [
              0.8888888888888888,
              "#fdca26"
             ],
             [
              1,
              "#f0f921"
             ]
            ],
            "type": "histogram2dcontour"
           }
          ],
          "mesh3d": [
           {
            "colorbar": {
             "outlinewidth": 0,
             "ticks": ""
            },
            "type": "mesh3d"
           }
          ],
          "parcoords": [
           {
            "line": {
             "colorbar": {
              "outlinewidth": 0,
              "ticks": ""
             }
            },
            "type": "parcoords"
           }
          ],
          "pie": [
           {
            "automargin": true,
            "type": "pie"
           }
          ],
          "scatter": [
           {
            "fillpattern": {
             "fillmode": "overlay",
             "size": 10,
             "solidity": 0.2
            },
            "type": "scatter"
           }
          ],
          "scatter3d": [
           {
            "line": {
             "colorbar": {
              "outlinewidth": 0,
              "ticks": ""
             }
            },
            "marker": {
             "colorbar": {
              "outlinewidth": 0,
              "ticks": ""
             }
            },
            "type": "scatter3d"
           }
          ],
          "scattercarpet": [
           {
            "marker": {
             "colorbar": {
              "outlinewidth": 0,
              "ticks": ""
             }
            },
            "type": "scattercarpet"
           }
          ],
          "scattergeo": [
           {
            "marker": {
             "colorbar": {
              "outlinewidth": 0,
              "ticks": ""
             }
            },
            "type": "scattergeo"
           }
          ],
          "scattergl": [
           {
            "marker": {
             "colorbar": {
              "outlinewidth": 0,
              "ticks": ""
             }
            },
            "type": "scattergl"
           }
          ],
          "scattermapbox": [
           {
            "marker": {
             "colorbar": {
              "outlinewidth": 0,
              "ticks": ""
             }
            },
            "type": "scattermapbox"
           }
          ],
          "scatterpolar": [
           {
            "marker": {
             "colorbar": {
              "outlinewidth": 0,
              "ticks": ""
             }
            },
            "type": "scatterpolar"
           }
          ],
          "scatterpolargl": [
           {
            "marker": {
             "colorbar": {
              "outlinewidth": 0,
              "ticks": ""
             }
            },
            "type": "scatterpolargl"
           }
          ],
          "scatterternary": [
           {
            "marker": {
             "colorbar": {
              "outlinewidth": 0,
              "ticks": ""
             }
            },
            "type": "scatterternary"
           }
          ],
          "surface": [
           {
            "colorbar": {
             "outlinewidth": 0,
             "ticks": ""
            },
            "colorscale": [
             [
              0,
              "#0d0887"
             ],
             [
              0.1111111111111111,
              "#46039f"
             ],
             [
              0.2222222222222222,
              "#7201a8"
             ],
             [
              0.3333333333333333,
              "#9c179e"
             ],
             [
              0.4444444444444444,
              "#bd3786"
             ],
             [
              0.5555555555555556,
              "#d8576b"
             ],
             [
              0.6666666666666666,
              "#ed7953"
             ],
             [
              0.7777777777777778,
              "#fb9f3a"
             ],
             [
              0.8888888888888888,
              "#fdca26"
             ],
             [
              1,
              "#f0f921"
             ]
            ],
            "type": "surface"
           }
          ],
          "table": [
           {
            "cells": {
             "fill": {
              "color": "#EBF0F8"
             },
             "line": {
              "color": "white"
             }
            },
            "header": {
             "fill": {
              "color": "#C8D4E3"
             },
             "line": {
              "color": "white"
             }
            },
            "type": "table"
           }
          ]
         },
         "layout": {
          "annotationdefaults": {
           "arrowcolor": "#2a3f5f",
           "arrowhead": 0,
           "arrowwidth": 1
          },
          "autotypenumbers": "strict",
          "coloraxis": {
           "colorbar": {
            "outlinewidth": 0,
            "ticks": ""
           }
          },
          "colorscale": {
           "diverging": [
            [
             0,
             "#8e0152"
            ],
            [
             0.1,
             "#c51b7d"
            ],
            [
             0.2,
             "#de77ae"
            ],
            [
             0.3,
             "#f1b6da"
            ],
            [
             0.4,
             "#fde0ef"
            ],
            [
             0.5,
             "#f7f7f7"
            ],
            [
             0.6,
             "#e6f5d0"
            ],
            [
             0.7,
             "#b8e186"
            ],
            [
             0.8,
             "#7fbc41"
            ],
            [
             0.9,
             "#4d9221"
            ],
            [
             1,
             "#276419"
            ]
           ],
           "sequential": [
            [
             0,
             "#0d0887"
            ],
            [
             0.1111111111111111,
             "#46039f"
            ],
            [
             0.2222222222222222,
             "#7201a8"
            ],
            [
             0.3333333333333333,
             "#9c179e"
            ],
            [
             0.4444444444444444,
             "#bd3786"
            ],
            [
             0.5555555555555556,
             "#d8576b"
            ],
            [
             0.6666666666666666,
             "#ed7953"
            ],
            [
             0.7777777777777778,
             "#fb9f3a"
            ],
            [
             0.8888888888888888,
             "#fdca26"
            ],
            [
             1,
             "#f0f921"
            ]
           ],
           "sequentialminus": [
            [
             0,
             "#0d0887"
            ],
            [
             0.1111111111111111,
             "#46039f"
            ],
            [
             0.2222222222222222,
             "#7201a8"
            ],
            [
             0.3333333333333333,
             "#9c179e"
            ],
            [
             0.4444444444444444,
             "#bd3786"
            ],
            [
             0.5555555555555556,
             "#d8576b"
            ],
            [
             0.6666666666666666,
             "#ed7953"
            ],
            [
             0.7777777777777778,
             "#fb9f3a"
            ],
            [
             0.8888888888888888,
             "#fdca26"
            ],
            [
             1,
             "#f0f921"
            ]
           ]
          },
          "colorway": [
           "#636efa",
           "#EF553B",
           "#00cc96",
           "#ab63fa",
           "#FFA15A",
           "#19d3f3",
           "#FF6692",
           "#B6E880",
           "#FF97FF",
           "#FECB52"
          ],
          "font": {
           "color": "#2a3f5f"
          },
          "geo": {
           "bgcolor": "white",
           "lakecolor": "white",
           "landcolor": "#E5ECF6",
           "showlakes": true,
           "showland": true,
           "subunitcolor": "white"
          },
          "hoverlabel": {
           "align": "left"
          },
          "hovermode": "closest",
          "mapbox": {
           "style": "light"
          },
          "paper_bgcolor": "white",
          "plot_bgcolor": "#E5ECF6",
          "polar": {
           "angularaxis": {
            "gridcolor": "white",
            "linecolor": "white",
            "ticks": ""
           },
           "bgcolor": "#E5ECF6",
           "radialaxis": {
            "gridcolor": "white",
            "linecolor": "white",
            "ticks": ""
           }
          },
          "scene": {
           "xaxis": {
            "backgroundcolor": "#E5ECF6",
            "gridcolor": "white",
            "gridwidth": 2,
            "linecolor": "white",
            "showbackground": true,
            "ticks": "",
            "zerolinecolor": "white"
           },
           "yaxis": {
            "backgroundcolor": "#E5ECF6",
            "gridcolor": "white",
            "gridwidth": 2,
            "linecolor": "white",
            "showbackground": true,
            "ticks": "",
            "zerolinecolor": "white"
           },
           "zaxis": {
            "backgroundcolor": "#E5ECF6",
            "gridcolor": "white",
            "gridwidth": 2,
            "linecolor": "white",
            "showbackground": true,
            "ticks": "",
            "zerolinecolor": "white"
           }
          },
          "shapedefaults": {
           "line": {
            "color": "#2a3f5f"
           }
          },
          "ternary": {
           "aaxis": {
            "gridcolor": "white",
            "linecolor": "white",
            "ticks": ""
           },
           "baxis": {
            "gridcolor": "white",
            "linecolor": "white",
            "ticks": ""
           },
           "bgcolor": "#E5ECF6",
           "caxis": {
            "gridcolor": "white",
            "linecolor": "white",
            "ticks": ""
           }
          },
          "title": {
           "x": 0.05
          },
          "xaxis": {
           "automargin": true,
           "gridcolor": "white",
           "linecolor": "white",
           "ticks": "",
           "title": {
            "standoff": 15
           },
           "zerolinecolor": "white",
           "zerolinewidth": 2
          },
          "yaxis": {
           "automargin": true,
           "gridcolor": "white",
           "linecolor": "white",
           "ticks": "",
           "title": {
            "standoff": 15
           },
           "zerolinecolor": "white",
           "zerolinewidth": 2
          }
         }
        },
        "title": {
         "text": "Bite Victim Count by State"
        }
       }
      },
      "image/png": "[encoded data removed]",
      "text/html": [
       "<div>                            <div id=\"7ef565d4-badd-4efe-b673-bc850e467814\" class=\"plotly-graph-div\" style=\"height:525px; width:100%;\"></div>            <script type=\"text/javascript\">                require([\"plotly\"], function(Plotly) {                    window.PLOTLYENV=window.PLOTLYENV || {};                                    if (document.getElementById(\"7ef565d4-badd-4efe-b673-bc850e467814\")) {                    Plotly.newPlot(                        \"7ef565d4-badd-4efe-b673-bc850e467814\",                        [{\"coloraxis\":\"coloraxis\",\"geo\":\"geo\",\"hovertemplate\":\"state=%{location}\\u003cbr\\u003eBite Victim Count=%{z}\\u003cextra\\u003e\\u003c\\u002fextra\\u003e\",\"locationmode\":\"USA-states\",\"locations\":[\"AK\",\"AL\",\"CA\",\"CO\",\"CT\",\"DC\",\"FL\",\"GA\",\"IA\",\"IL\",\"IN\",\"KY\",\"LA\",\"MI\",\"MO\",\"MS\",\"NC\",\"NV\",\"NY\",\"OH\",\"OK\",\"PA\",\"SC\",\"TN\",\"TX\",\"UT\",\"VA\",\"WA\",\"WI\"],\"name\":\"\",\"z\":[1,4,2,1,1,1,6,2,2,4,132,6944,1,3,2,1,4,1,3,10,1,2,2,7,5,1,4,2,3],\"type\":\"choropleth\"}],                        {\"template\":{\"data\":{\"histogram2dcontour\":[{\"type\":\"histogram2dcontour\",\"colorbar\":{\"outlinewidth\":0,\"ticks\":\"\"},\"colorscale\":[[0.0,\"#0d0887\"],[0.1111111111111111,\"#46039f\"],[0.2222222222222222,\"#7201a8\"],[0.3333333333333333,\"#9c179e\"],[0.4444444444444444,\"#bd3786\"],[0.5555555555555556,\"#d8576b\"],[0.6666666666666666,\"#ed7953\"],[0.7777777777777778,\"#fb9f3a\"],[0.8888888888888888,\"#fdca26\"],[1.0,\"#f0f921\"]]}],\"choropleth\":[{\"type\":\"choropleth\",\"colorbar\":{\"outlinewidth\":0,\"ticks\":\"\"}}],\"histogram2d\":[{\"type\":\"histogram2d\",\"colorbar\":{\"outlinewidth\":0,\"ticks\":\"\"},\"colorscale\":[[0.0,\"#0d0887\"],[0.1111111111111111,\"#46039f\"],[0.2222222222222222,\"#7201a8\"],[0.3333333333333333,\"#9c179e\"],[0.4444444444444444,\"#bd3786\"],[0.5555555555555556,\"#d8576b\"],[0.6666666666666666,\"#ed7953\"],[0.7777777777777778,\"#fb9f3a\"],[0.8888888888888888,\"#fdca26\"],[1.0,\"#f0f921\"]]}],\"heatmap\":[{\"type\":\"heatmap\",\"colorbar\":{\"outlinewidth\":0,\"ticks\":\"\"},\"colorscale\":[[0.0,\"#0d0887\"],[0.1111111111111111,\"#46039f\"],[0.2222222222222222,\"#7201a8\"],[0.3333333333333333,\"#9c179e\"],[0.4444444444444444,\"#bd3786\"],[0.5555555555555556,\"#d8576b\"],[0.6666666666666666,\"#ed7953\"],[0.7777777777777778,\"#fb9f3a\"],[0.8888888888888888,\"#fdca26\"],[1.0,\"#f0f921\"]]}],\"heatmapgl\":[{\"type\":\"heatmapgl\",\"colorbar\":{\"outlinewidth\":0,\"ticks\":\"\"},\"colorscale\":[[0.0,\"#0d0887\"],[0.1111111111111111,\"#46039f\"],[0.2222222222222222,\"#7201a8\"],[0.3333333333333333,\"#9c179e\"],[0.4444444444444444,\"#bd3786\"],[0.5555555555555556,\"#d8576b\"],[0.6666666666666666,\"#ed7953\"],[0.7777777777777778,\"#fb9f3a\"],[0.8888888888888888,\"#fdca26\"],[1.0,\"#f0f921\"]]}],\"contourcarpet\":[{\"type\":\"contourcarpet\",\"colorbar\":{\"outlinewidth\":0,\"ticks\":\"\"}}],\"contour\":[{\"type\":\"contour\",\"colorbar\":{\"outlinewidth\":0,\"ticks\":\"\"},\"colorscale\":[[0.0,\"#0d0887\"],[0.1111111111111111,\"#46039f\"],[0.2222222222222222,\"#7201a8\"],[0.3333333333333333,\"#9c179e\"],[0.4444444444444444,\"#bd3786\"],[0.5555555555555556,\"#d8576b\"],[0.6666666666666666,\"#ed7953\"],[0.7777777777777778,\"#fb9f3a\"],[0.8888888888888888,\"#fdca26\"],[1.0,\"#f0f921\"]]}],\"surface\":[{\"type\":\"surface\",\"colorbar\":{\"outlinewidth\":0,\"ticks\":\"\"},\"colorscale\":[[0.0,\"#0d0887\"],[0.1111111111111111,\"#46039f\"],[0.2222222222222222,\"#7201a8\"],[0.3333333333333333,\"#9c179e\"],[0.4444444444444444,\"#bd3786\"],[0.5555555555555556,\"#d8576b\"],[0.6666666666666666,\"#ed7953\"],[0.7777777777777778,\"#fb9f3a\"],[0.8888888888888888,\"#fdca26\"],[1.0,\"#f0f921\"]]}],\"mesh3d\":[{\"type\":\"mesh3d\",\"colorbar\":{\"outlinewidth\":0,\"ticks\":\"\"}}],\"scatter\":[{\"fillpattern\":{\"fillmode\":\"overlay\",\"size\":10,\"solidity\":0.2},\"type\":\"scatter\"}],\"parcoords\":[{\"type\":\"parcoords\",\"line\":{\"colorbar\":{\"outlinewidth\":0,\"ticks\":\"\"}}}],\"scatterpolargl\":[{\"type\":\"scatterpolargl\",\"marker\":{\"colorbar\":{\"outlinewidth\":0,\"ticks\":\"\"}}}],\"bar\":[{\"error_x\":{\"color\":\"#2a3f5f\"},\"error_y\":{\"color\":\"#2a3f5f\"},\"marker\":{\"line\":{\"color\":\"#E5ECF6\",\"width\":0.5},\"pattern\":{\"fillmode\":\"overlay\",\"size\":10,\"solidity\":0.2}},\"type\":\"bar\"}],\"scattergeo\":[{\"type\":\"scattergeo\",\"marker\":{\"colorbar\":{\"outlinewidth\":0,\"ticks\":\"\"}}}],\"scatterpolar\":[{\"type\":\"scatterpolar\",\"marker\":{\"colorbar\":{\"outlinewidth\":0,\"ticks\":\"\"}}}],\"histogram\":[{\"marker\":{\"pattern\":{\"fillmode\":\"overlay\",\"size\":10,\"solidity\":0.2}},\"type\":\"histogram\"}],\"scattergl\":[{\"type\":\"scattergl\",\"marker\":{\"colorbar\":{\"outlinewidth\":0,\"ticks\":\"\"}}}],\"scatter3d\":[{\"type\":\"scatter3d\",\"line\":{\"colorbar\":{\"outlinewidth\":0,\"ticks\":\"\"}},\"marker\":{\"colorbar\":{\"outlinewidth\":0,\"ticks\":\"\"}}}],\"scattermapbox\":[{\"type\":\"scattermapbox\",\"marker\":{\"colorbar\":{\"outlinewidth\":0,\"ticks\":\"\"}}}],\"scatterternary\":[{\"type\":\"scatterternary\",\"marker\":{\"colorbar\":{\"outlinewidth\":0,\"ticks\":\"\"}}}],\"scattercarpet\":[{\"type\":\"scattercarpet\",\"marker\":{\"colorbar\":{\"outlinewidth\":0,\"ticks\":\"\"}}}],\"carpet\":[{\"aaxis\":{\"endlinecolor\":\"#2a3f5f\",\"gridcolor\":\"white\",\"linecolor\":\"white\",\"minorgridcolor\":\"white\",\"startlinecolor\":\"#2a3f5f\"},\"baxis\":{\"endlinecolor\":\"#2a3f5f\",\"gridcolor\":\"white\",\"linecolor\":\"white\",\"minorgridcolor\":\"white\",\"startlinecolor\":\"#2a3f5f\"},\"type\":\"carpet\"}],\"table\":[{\"cells\":{\"fill\":{\"color\":\"#EBF0F8\"},\"line\":{\"color\":\"white\"}},\"header\":{\"fill\":{\"color\":\"#C8D4E3\"},\"line\":{\"color\":\"white\"}},\"type\":\"table\"}],\"barpolar\":[{\"marker\":{\"line\":{\"color\":\"#E5ECF6\",\"width\":0.5},\"pattern\":{\"fillmode\":\"overlay\",\"size\":10,\"solidity\":0.2}},\"type\":\"barpolar\"}],\"pie\":[{\"automargin\":true,\"type\":\"pie\"}]},\"layout\":{\"autotypenumbers\":\"strict\",\"colorway\":[\"#636efa\",\"#EF553B\",\"#00cc96\",\"#ab63fa\",\"#FFA15A\",\"#19d3f3\",\"#FF6692\",\"#B6E880\",\"#FF97FF\",\"#FECB52\"],\"font\":{\"color\":\"#2a3f5f\"},\"hovermode\":\"closest\",\"hoverlabel\":{\"align\":\"left\"},\"paper_bgcolor\":\"white\",\"plot_bgcolor\":\"#E5ECF6\",\"polar\":{\"bgcolor\":\"#E5ECF6\",\"angularaxis\":{\"gridcolor\":\"white\",\"linecolor\":\"white\",\"ticks\":\"\"},\"radialaxis\":{\"gridcolor\":\"white\",\"linecolor\":\"white\",\"ticks\":\"\"}},\"ternary\":{\"bgcolor\":\"#E5ECF6\",\"aaxis\":{\"gridcolor\":\"white\",\"linecolor\":\"white\",\"ticks\":\"\"},\"baxis\":{\"gridcolor\":\"white\",\"linecolor\":\"white\",\"ticks\":\"\"},\"caxis\":{\"gridcolor\":\"white\",\"linecolor\":\"white\",\"ticks\":\"\"}},\"coloraxis\":{\"colorbar\":{\"outlinewidth\":0,\"ticks\":\"\"}},\"colorscale\":{\"sequential\":[[0.0,\"#0d0887\"],[0.1111111111111111,\"#46039f\"],[0.2222222222222222,\"#7201a8\"],[0.3333333333333333,\"#9c179e\"],[0.4444444444444444,\"#bd3786\"],[0.5555555555555556,\"#d8576b\"],[0.6666666666666666,\"#ed7953\"],[0.7777777777777778,\"#fb9f3a\"],[0.8888888888888888,\"#fdca26\"],[1.0,\"#f0f921\"]],\"sequentialminus\":[[0.0,\"#0d0887\"],[0.1111111111111111,\"#46039f\"],[0.2222222222222222,\"#7201a8\"],[0.3333333333333333,\"#9c179e\"],[0.4444444444444444,\"#bd3786\"],[0.5555555555555556,\"#d8576b\"],[0.6666666666666666,\"#ed7953\"],[0.7777777777777778,\"#fb9f3a\"],[0.8888888888888888,\"#fdca26\"],[1.0,\"#f0f921\"]],\"diverging\":[[0,\"#8e0152\"],[0.1,\"#c51b7d\"],[0.2,\"#de77ae\"],[0.3,\"#f1b6da\"],[0.4,\"#fde0ef\"],[0.5,\"#f7f7f7\"],[0.6,\"#e6f5d0\"],[0.7,\"#b8e186\"],[0.8,\"#7fbc41\"],[0.9,\"#4d9221\"],[1,\"#276419\"]]},\"xaxis\":{\"gridcolor\":\"white\",\"linecolor\":\"white\",\"ticks\":\"\",\"title\":{\"standoff\":15},\"zerolinecolor\":\"white\",\"automargin\":true,\"zerolinewidth\":2},\"yaxis\":{\"gridcolor\":\"white\",\"linecolor\":\"white\",\"ticks\":\"\",\"title\":{\"standoff\":15},\"zerolinecolor\":\"white\",\"automargin\":true,\"zerolinewidth\":2},\"scene\":{\"xaxis\":{\"backgroundcolor\":\"#E5ECF6\",\"gridcolor\":\"white\",\"linecolor\":\"white\",\"showbackground\":true,\"ticks\":\"\",\"zerolinecolor\":\"white\",\"gridwidth\":2},\"yaxis\":{\"backgroundcolor\":\"#E5ECF6\",\"gridcolor\":\"white\",\"linecolor\":\"white\",\"showbackground\":true,\"ticks\":\"\",\"zerolinecolor\":\"white\",\"gridwidth\":2},\"zaxis\":{\"backgroundcolor\":\"#E5ECF6\",\"gridcolor\":\"white\",\"linecolor\":\"white\",\"showbackground\":true,\"ticks\":\"\",\"zerolinecolor\":\"white\",\"gridwidth\":2}},\"shapedefaults\":{\"line\":{\"color\":\"#2a3f5f\"}},\"annotationdefaults\":{\"arrowcolor\":\"#2a3f5f\",\"arrowhead\":0,\"arrowwidth\":1},\"geo\":{\"bgcolor\":\"white\",\"landcolor\":\"#E5ECF6\",\"subunitcolor\":\"white\",\"showland\":true,\"showlakes\":true,\"lakecolor\":\"white\"},\"title\":{\"x\":0.05},\"mapbox\":{\"style\":\"light\"}}},\"geo\":{\"domain\":{\"x\":[0.0,1.0],\"y\":[0.0,1.0]},\"center\":{},\"scope\":\"usa\",\"showcoastlines\":true},\"coloraxis\":{\"colorbar\":{\"title\":{\"text\":\"Bite Victim Count\"}},\"colorscale\":[[0.0,\"rgb(255,255,204)\"],[0.125,\"rgb(255,237,160)\"],[0.25,\"rgb(254,217,118)\"],[0.375,\"rgb(254,178,76)\"],[0.5,\"rgb(253,141,60)\"],[0.625,\"rgb(252,78,42)\"],[0.75,\"rgb(227,26,28)\"],[0.875,\"rgb(189,0,38)\"],[1.0,\"rgb(128,0,38)\"]]},\"legend\":{\"tracegroupgap\":0},\"margin\":{\"t\":60},\"title\":{\"text\":\"Bite Victim Count by State\"}},                        {\"responsive\": true}                    ).then(function(){\n",
       "                            \n",
       "var gd = document.getElementById('7ef565d4-badd-4efe-b673-bc850e467814');\n",
       "var x = new MutationObserver(function (mutations, observer) {{\n",
       "        var display = window.getComputedStyle(gd).display;\n",
       "        if (!display || display === 'none') {{\n",
       "            console.log([gd, 'removed!']);\n",
       "            Plotly.purge(gd);\n",
       "            observer.disconnect();\n",
       "        }}\n",
       "}});\n",
       "\n",
       "// Listen for the removal of the full notebook cells\n",
       "var notebookContainer = gd.closest('#notebook-container');\n",
       "if (notebookContainer) {{\n",
       "    x.observe(notebookContainer, {childList: true});\n",
       "}}\n",
       "\n",
       "// Listen for the clearing of the current output cell\n",
       "var outputEl = gd.closest('.output');\n",
       "if (outputEl) {{\n",
       "    x.observe(outputEl, {childList: true});\n",
       "}}\n",
       "\n",
       "                        })                };                });            </script>        </div>"
      ]
     },
     "metadata": {},
     "output_type": "display_data"
    }
   ],
   "source": [
    "import plotly.express as px\n",
    "\n",
    "# Assuming state_counts is your DataFrame containing state and count data\n",
    "\n",
    "\n",
    "# Create a choropleth map using Plotly Express\n",
    "fig = px.choropleth(state_counts, \n",
    "                    locations='state', \n",
    "                    locationmode='USA-states', \n",
    "                    color='count',\n",
    "                    scope='usa',  # Set the map scope to USA\n",
    "                    color_continuous_scale='YlOrRd',  # Use the 'YlOrRd' color scale\n",
    "                    labels={'count': 'Bite Victim Count'}  # Set label for color scale\n",
    "                   )\n",
    "\n",
    "# Update layout properties\n",
    "fig.update_layout(\n",
    "    title='Bite Victim Count by State',  # Set the title of the plot\n",
    "    geo=dict(\n",
    "        showcoastlines=True,  # Show coastlines on the map\n",
    "    )\n",
    ")\n",
    "\n",
    "# Show the plot\n",
    "fig.show()"
   ]
  },
  {
   "cell_type": "code",
   "execution_count": 63,
   "id": "b5a6461e-95b8-45d2-897d-ce0264950dfd",
   "metadata": {},
   "outputs": [
    {
     "data": {
      "text/plain": [
       "SpeciesIDDesc\n",
       "DOG        7029\n",
       "CAT        1568\n",
       "BAT         237\n",
       "RACCOON      27\n",
       "OTHER        11\n",
       "HORSE         5\n",
       "FERRET        4\n",
       "RABBIT        3\n",
       "SKUNK         1\n",
       "Name: count, dtype: int64"
      ]
     },
     "execution_count": 63,
     "metadata": {},
     "output_type": "execute_result"
    }
   ],
   "source": [
    "bite['SpeciesIDDesc'].value_counts()"
   ]
  },
  {
   "cell_type": "code",
   "execution_count": 77,
   "id": "ef944b9c-1730-4b5b-902f-a811f0b64a84",
   "metadata": {},
   "outputs": [
    {
     "name": "stdout",
     "output_type": "stream",
     "text": [
      "all from Kentucky\n"
     ]
    },
    {
     "data": {
      "image/png": "[encoded data removed]",
      "text/plain": [
       "<Figure size 1200x800 with 1 Axes>"
      ]
     },
     "metadata": {},
     "output_type": "display_data"
    }
   ],
   "source": [
    "# zipcodes and types of bites\n",
    "\n",
    "# Step 1: Calculate the top 5 most common zip codes\n",
    "# bite['victim_zip'].dropna(inplace=True)\n",
    "top_5_zipcodes = bite['victim_zip'].value_counts().head(5).index.tolist()\n",
    "\n",
    "# Step 2: Calculate the distribution of animal bites by type for each of the top 5 zip codes\n",
    "zipcodes_data = []\n",
    "for zipcode in top_5_zipcodes:\n",
    "    # Filter the DataFrame for the current zip code\n",
    "    zip_data = bite[bite['victim_zip'] == zipcode]\n",
    "    # Count the occurrences of each animal bite type\n",
    "    bite_counts = zip_data['SpeciesIDDesc'].value_counts()\n",
    "    # Append the zip code and the distribution of animal bites by type to the list\n",
    "    zipcodes_data.append((zipcode, bite_counts))\n",
    "\n",
    "# Step 3: Create a grouped bar chart to visualize the distribution of animal bites by type for each of the top 5 zip codes\n",
    "plt.figure(figsize=(12, 8))\n",
    "colors = ['#3A3335', '#D81E5B', '#F0544F', '#FDF0D5', '#C6D8D3']  # Color for each zip code\n",
    "\n",
    "for i, (zipcode, bite_counts) in enumerate(zipcodes_data):\n",
    "    plt.bar(bite_counts.index, bite_counts.values, color=colors[i], label=zipcode)\n",
    "\n",
    "print('all from Kentucky')\n",
    "\n",
    "plt.title('Distribution of Animal Bites by Type in Top 5 Zip Codes')\n",
    "plt.xlabel('Animal Bite Type')\n",
    "plt.ylabel('Count')\n",
    "plt.xticks(rotation=45, ha='right')  # Rotate x-axis labels for better readability\n",
    "plt.legend(title='Zip Code')\n",
    "plt.tight_layout()\n",
    "plt.show()"
   ]
  },
  {
   "cell_type": "markdown",
   "id": "9f63db39-8916-4394-9948-e2ca3bf21da1",
   "metadata": {},
   "source": [
    "# Are some dog breeds more likely to bite?"
   ]
  },
  {
   "cell_type": "code",
   "execution_count": 88,
   "id": "a6b33096-8b92-4bd7-9601-58fe8c9ee2f1",
   "metadata": {},
   "outputs": [
    {
     "data": {
      "image/png": "[encoded data removed]",
      "text/plain": [
       "<Figure size 1000x600 with 1 Axes>"
      ]
     },
     "metadata": {},
     "output_type": "display_data"
    }
   ],
   "source": [
    "# dog bites per breed\n",
    "\n",
    "# Count the occurrences of each animal breed involved in bites\n",
    "dog_bite = bite[bite['SpeciesIDDesc'] == 'DOG']\n",
    "dog_counts = dog_bite['BreedIDDesc'].value_counts().head(5)\n",
    "\n",
    "# Create a bar chart to visualize the distribution of animal breeds involved in bites\n",
    "plt.figure(figsize=(10, 6))\n",
    "dog_counts.plot(kind='bar', color='skyblue')\n",
    "plt.title('Distribution of Bites by Dog Breed')\n",
    "plt.xlabel('Animal Breed')\n",
    "plt.ylabel('Count')\n",
    "plt.xticks(rotation=45, ha='right')  # Rotate x-axis labels for better readability\n",
    "plt.tight_layout()\n",
    "plt.show()"
   ]
  },
  {
   "cell_type": "markdown",
   "id": "f8381b42-3ce9-45b7-972f-12fa7b8c7fcf",
   "metadata": {},
   "source": [
    "# What factors are most strongly associated with a positive rabies ID?"
   ]
  },
  {
   "cell_type": "code",
   "execution_count": 126,
   "id": "f77a31bb-a4dc-4d8a-90aa-b27e72904afc",
   "metadata": {},
   "outputs": [
    {
     "data": {
      "text/plain": [
       "bite_date            0\n",
       "SpeciesIDDesc        0\n",
       "BreedIDDesc          0\n",
       "GenderIDDesc         0\n",
       "color                0\n",
       "vaccination_yrs      0\n",
       "vaccination_date     0\n",
       "victim_zip           0\n",
       "AdvIssuedYNDesc      0\n",
       "WhereBittenIDDesc    0\n",
       "quarantine_date      0\n",
       "DispositionIDDesc    0\n",
       "head_sent_date       0\n",
       "release_date         0\n",
       "ResultsIDDesc        0\n",
       "dtype: int64"
      ]
     },
     "execution_count": 126,
     "metadata": {},
     "output_type": "execute_result"
    }
   ],
   "source": [
    "bite.isna().sum()"
   ]
  },
  {
   "cell_type": "code",
   "execution_count": 201,
   "id": "95391e93-a093-469f-a468-9d05c4f8fb2c",
   "metadata": {},
   "outputs": [
    {
     "data": {
      "text/html": [
       "<div>\n",
       "<style scoped>\n",
       "    .dataframe tbody tr th:only-of-type {\n",
       "        vertical-align: middle;\n",
       "    }\n",
       "\n",
       "    .dataframe tbody tr th {\n",
       "        vertical-align: top;\n",
       "    }\n",
       "\n",
       "    .dataframe thead th {\n",
       "        text-align: right;\n",
       "    }\n",
       "</style>\n",
       "<table border=\"1\" class=\"dataframe\">\n",
       "  <thead>\n",
       "    <tr style=\"text-align: right;\">\n",
       "      <th></th>\n",
       "      <th>bite_date</th>\n",
       "      <th>SpeciesIDDesc</th>\n",
       "      <th>BreedIDDesc</th>\n",
       "      <th>GenderIDDesc</th>\n",
       "      <th>color</th>\n",
       "      <th>vaccination_yrs</th>\n",
       "      <th>vaccination_date</th>\n",
       "      <th>victim_zip</th>\n",
       "      <th>AdvIssuedYNDesc</th>\n",
       "      <th>WhereBittenIDDesc</th>\n",
       "      <th>quarantine_date</th>\n",
       "      <th>DispositionIDDesc</th>\n",
       "      <th>head_sent_date</th>\n",
       "      <th>release_date</th>\n",
       "      <th>ResultsIDDesc</th>\n",
       "    </tr>\n",
       "  </thead>\n",
       "  <tbody>\n",
       "    <tr>\n",
       "      <th>0</th>\n",
       "      <td>1985-05-05</td>\n",
       "      <td>DOG</td>\n",
       "      <td>PIT BULL</td>\n",
       "      <td>FEMALE</td>\n",
       "      <td>LIG. BROWN</td>\n",
       "      <td>1.0</td>\n",
       "      <td>1985-06-20 00:00:00</td>\n",
       "      <td>40229</td>\n",
       "      <td>NO</td>\n",
       "      <td>BODY</td>\n",
       "      <td>1985-05-05 00:00:00</td>\n",
       "      <td>UNKNOWN</td>\n",
       "      <td>UNKNOWN</td>\n",
       "      <td>UNKNOWN</td>\n",
       "      <td>UNKNOWN</td>\n",
       "    </tr>\n",
       "    <tr>\n",
       "      <th>1</th>\n",
       "      <td>1986-02-12</td>\n",
       "      <td>DOG</td>\n",
       "      <td>PIT BULL</td>\n",
       "      <td>UNKNOWN</td>\n",
       "      <td>BRO &amp; BLA</td>\n",
       "      <td>-1.0</td>\n",
       "      <td>UNKNOWN</td>\n",
       "      <td>40218</td>\n",
       "      <td>NO</td>\n",
       "      <td>BODY</td>\n",
       "      <td>1986-02-12 00:00:00</td>\n",
       "      <td>UNKNOWN</td>\n",
       "      <td>UNKNOWN</td>\n",
       "      <td>UNKNOWN</td>\n",
       "      <td>UNKNOWN</td>\n",
       "    </tr>\n",
       "    <tr>\n",
       "      <th>2</th>\n",
       "      <td>1987-05-07</td>\n",
       "      <td>DOG</td>\n",
       "      <td>PIT BULL</td>\n",
       "      <td>UNKNOWN</td>\n",
       "      <td>BLACK</td>\n",
       "      <td>-1.0</td>\n",
       "      <td>UNKNOWN</td>\n",
       "      <td>40219</td>\n",
       "      <td>NO</td>\n",
       "      <td>BODY</td>\n",
       "      <td>1990-05-07 00:00:00</td>\n",
       "      <td>UNKNOWN</td>\n",
       "      <td>UNKNOWN</td>\n",
       "      <td>UNKNOWN</td>\n",
       "      <td>UNKNOWN</td>\n",
       "    </tr>\n",
       "    <tr>\n",
       "      <th>3</th>\n",
       "      <td>1988-10-02</td>\n",
       "      <td>DOG</td>\n",
       "      <td>PIT BULL</td>\n",
       "      <td>MALE</td>\n",
       "      <td>BLA &amp; BRO</td>\n",
       "      <td>-1.0</td>\n",
       "      <td>UNKNOWN</td>\n",
       "      <td>40272</td>\n",
       "      <td>NO</td>\n",
       "      <td>BODY</td>\n",
       "      <td>1990-10-02 00:00:00</td>\n",
       "      <td>UNKNOWN</td>\n",
       "      <td>UNKNOWN</td>\n",
       "      <td>UNKNOWN</td>\n",
       "      <td>UNKNOWN</td>\n",
       "    </tr>\n",
       "    <tr>\n",
       "      <th>4</th>\n",
       "      <td>1989-08-29</td>\n",
       "      <td>DOG</td>\n",
       "      <td>PIT BULL</td>\n",
       "      <td>FEMALE</td>\n",
       "      <td>BLK-WHT</td>\n",
       "      <td>-1.0</td>\n",
       "      <td>UNKNOWN</td>\n",
       "      <td>40272</td>\n",
       "      <td>NO</td>\n",
       "      <td>BODY</td>\n",
       "      <td>UNKNOWN</td>\n",
       "      <td>UNKNOWN</td>\n",
       "      <td>UNKNOWN</td>\n",
       "      <td>UNKNOWN</td>\n",
       "      <td>UNKNOWN</td>\n",
       "    </tr>\n",
       "    <tr>\n",
       "      <th>...</th>\n",
       "      <td>...</td>\n",
       "      <td>...</td>\n",
       "      <td>...</td>\n",
       "      <td>...</td>\n",
       "      <td>...</td>\n",
       "      <td>...</td>\n",
       "      <td>...</td>\n",
       "      <td>...</td>\n",
       "      <td>...</td>\n",
       "      <td>...</td>\n",
       "      <td>...</td>\n",
       "      <td>...</td>\n",
       "      <td>...</td>\n",
       "      <td>...</td>\n",
       "      <td>...</td>\n",
       "    </tr>\n",
       "    <tr>\n",
       "      <th>8998</th>\n",
       "      <td>2017-09-05</td>\n",
       "      <td>DOG</td>\n",
       "      <td>PIT BULL</td>\n",
       "      <td>MALE</td>\n",
       "      <td>BLACK</td>\n",
       "      <td>-1.0</td>\n",
       "      <td>UNKNOWN</td>\n",
       "      <td>40243</td>\n",
       "      <td>UNKNOWN</td>\n",
       "      <td>UNKNOWN</td>\n",
       "      <td>UNKNOWN</td>\n",
       "      <td>UNKNOWN</td>\n",
       "      <td>UNKNOWN</td>\n",
       "      <td>UNKNOWN</td>\n",
       "      <td>NOT GIVEN</td>\n",
       "    </tr>\n",
       "    <tr>\n",
       "      <th>8999</th>\n",
       "      <td>2017-09-07</td>\n",
       "      <td>DOG</td>\n",
       "      <td>POMERANIAN</td>\n",
       "      <td>MALE</td>\n",
       "      <td>RED</td>\n",
       "      <td>-1.0</td>\n",
       "      <td>UNKNOWN</td>\n",
       "      <td>40204</td>\n",
       "      <td>UNKNOWN</td>\n",
       "      <td>HEAD</td>\n",
       "      <td>UNKNOWN</td>\n",
       "      <td>UNKNOWN</td>\n",
       "      <td>UNKNOWN</td>\n",
       "      <td>UNKNOWN</td>\n",
       "      <td>NOT GIVEN</td>\n",
       "    </tr>\n",
       "    <tr>\n",
       "      <th>9000</th>\n",
       "      <td>2017-09-07</td>\n",
       "      <td>DOG</td>\n",
       "      <td>LABRADOR RETRIV</td>\n",
       "      <td>MALE</td>\n",
       "      <td>BROWN</td>\n",
       "      <td>-1.0</td>\n",
       "      <td>UNKNOWN</td>\n",
       "      <td>47130</td>\n",
       "      <td>UNKNOWN</td>\n",
       "      <td>UNKNOWN</td>\n",
       "      <td>UNKNOWN</td>\n",
       "      <td>UNKNOWN</td>\n",
       "      <td>UNKNOWN</td>\n",
       "      <td>UNKNOWN</td>\n",
       "      <td>NOT GIVEN</td>\n",
       "    </tr>\n",
       "    <tr>\n",
       "      <th>9001</th>\n",
       "      <td>2017-09-07</td>\n",
       "      <td>DOG</td>\n",
       "      <td>LABRADOR RETRIV</td>\n",
       "      <td>FEMALE</td>\n",
       "      <td>BLK WHT</td>\n",
       "      <td>-1.0</td>\n",
       "      <td>UNKNOWN</td>\n",
       "      <td>40229</td>\n",
       "      <td>UNKNOWN</td>\n",
       "      <td>BODY</td>\n",
       "      <td>UNKNOWN</td>\n",
       "      <td>UNKNOWN</td>\n",
       "      <td>UNKNOWN</td>\n",
       "      <td>UNKNOWN</td>\n",
       "      <td>NOT GIVEN</td>\n",
       "    </tr>\n",
       "    <tr>\n",
       "      <th>9002</th>\n",
       "      <td>2017-09-07</td>\n",
       "      <td>DOG</td>\n",
       "      <td>BOXER</td>\n",
       "      <td>MALE</td>\n",
       "      <td>BRN BLK</td>\n",
       "      <td>-1.0</td>\n",
       "      <td>UNKNOWN</td>\n",
       "      <td>40229</td>\n",
       "      <td>UNKNOWN</td>\n",
       "      <td>BODY</td>\n",
       "      <td>UNKNOWN</td>\n",
       "      <td>UNKNOWN</td>\n",
       "      <td>UNKNOWN</td>\n",
       "      <td>UNKNOWN</td>\n",
       "      <td>NOT GIVEN</td>\n",
       "    </tr>\n",
       "  </tbody>\n",
       "</table>\n",
       "<p>9003 rows × 15 columns</p>\n",
       "</div>"
      ],
      "text/plain": [
       "      bite_date SpeciesIDDesc      BreedIDDesc GenderIDDesc       color  \\\n",
       "0    1985-05-05           DOG         PIT BULL       FEMALE  LIG. BROWN   \n",
       "1    1986-02-12           DOG         PIT BULL      UNKNOWN   BRO & BLA   \n",
       "2    1987-05-07           DOG         PIT BULL      UNKNOWN       BLACK   \n",
       "3    1988-10-02           DOG         PIT BULL         MALE   BLA & BRO   \n",
       "4    1989-08-29           DOG         PIT BULL       FEMALE     BLK-WHT   \n",
       "...         ...           ...              ...          ...         ...   \n",
       "8998 2017-09-05           DOG         PIT BULL         MALE       BLACK   \n",
       "8999 2017-09-07           DOG       POMERANIAN         MALE         RED   \n",
       "9000 2017-09-07           DOG  LABRADOR RETRIV         MALE       BROWN   \n",
       "9001 2017-09-07           DOG  LABRADOR RETRIV       FEMALE     BLK WHT   \n",
       "9002 2017-09-07           DOG            BOXER         MALE     BRN BLK   \n",
       "\n",
       "      vaccination_yrs     vaccination_date victim_zip AdvIssuedYNDesc  \\\n",
       "0                 1.0  1985-06-20 00:00:00      40229              NO   \n",
       "1                -1.0              UNKNOWN      40218              NO   \n",
       "2                -1.0              UNKNOWN      40219              NO   \n",
       "3                -1.0              UNKNOWN      40272              NO   \n",
       "4                -1.0              UNKNOWN      40272              NO   \n",
       "...               ...                  ...        ...             ...   \n",
       "8998             -1.0              UNKNOWN      40243         UNKNOWN   \n",
       "8999             -1.0              UNKNOWN      40204         UNKNOWN   \n",
       "9000             -1.0              UNKNOWN      47130         UNKNOWN   \n",
       "9001             -1.0              UNKNOWN      40229         UNKNOWN   \n",
       "9002             -1.0              UNKNOWN      40229         UNKNOWN   \n",
       "\n",
       "     WhereBittenIDDesc      quarantine_date DispositionIDDesc head_sent_date  \\\n",
       "0                 BODY  1985-05-05 00:00:00           UNKNOWN        UNKNOWN   \n",
       "1                 BODY  1986-02-12 00:00:00           UNKNOWN        UNKNOWN   \n",
       "2                 BODY  1990-05-07 00:00:00           UNKNOWN        UNKNOWN   \n",
       "3                 BODY  1990-10-02 00:00:00           UNKNOWN        UNKNOWN   \n",
       "4                 BODY              UNKNOWN           UNKNOWN        UNKNOWN   \n",
       "...                ...                  ...               ...            ...   \n",
       "8998           UNKNOWN              UNKNOWN           UNKNOWN        UNKNOWN   \n",
       "8999              HEAD              UNKNOWN           UNKNOWN        UNKNOWN   \n",
       "9000           UNKNOWN              UNKNOWN           UNKNOWN        UNKNOWN   \n",
       "9001              BODY              UNKNOWN           UNKNOWN        UNKNOWN   \n",
       "9002              BODY              UNKNOWN           UNKNOWN        UNKNOWN   \n",
       "\n",
       "     release_date ResultsIDDesc  \n",
       "0         UNKNOWN       UNKNOWN  \n",
       "1         UNKNOWN       UNKNOWN  \n",
       "2         UNKNOWN       UNKNOWN  \n",
       "3         UNKNOWN       UNKNOWN  \n",
       "4         UNKNOWN       UNKNOWN  \n",
       "...           ...           ...  \n",
       "8998      UNKNOWN     NOT GIVEN  \n",
       "8999      UNKNOWN     NOT GIVEN  \n",
       "9000      UNKNOWN     NOT GIVEN  \n",
       "9001      UNKNOWN     NOT GIVEN  \n",
       "9002      UNKNOWN     NOT GIVEN  \n",
       "\n",
       "[9003 rows x 15 columns]"
      ]
     },
     "execution_count": 201,
     "metadata": {},
     "output_type": "execute_result"
    }
   ],
   "source": [
    "# replace nan values\n",
    "\n",
    "# Replace NaN values in 'bite_date' with the nearest available date\n",
    "bite['bite_date'] = pd.to_datetime(bite['bite_date'], errors='coerce')\n",
    "bite['bite_date'] = bite['bite_date'].fillna(method='ffill').fillna(method='bfill')\n",
    "\n",
    "# Convert 'bite_date' to datetime\n",
    "bite['bite_date'] = pd.to_datetime(bite['bite_date'])\n",
    "\n",
    "# Replace missing categorical variables with most frequent category\n",
    "categorical_columns = ['SpeciesIDDesc', 'BreedIDDesc', 'GenderIDDesc', 'color']\n",
    "for column in categorical_columns:\n",
    "    bite[column].fillna(bite[column].mode()[0], inplace=True)\n",
    "\n",
    "# Use a placeholder value for missing vaccination years and dates\n",
    "bite['vaccination_yrs'].fillna(-1, inplace=True)\n",
    "bite['vaccination_date'].fillna('UNKNOWN', inplace=True)\n",
    "\n",
    "# Replace missing victim zip codes with most frequent zip code\n",
    "bite['victim_zip'].fillna(bite['victim_zip'].mode()[0], inplace=True)\n",
    "\n",
    "# Use \"Unknown\" for missing values in categorical columns\n",
    "other_categorical_columns = ['AdvIssuedYNDesc', 'WhereBittenIDDesc', 'quarantine_date', 'DispositionIDDesc']\n",
    "for column in other_categorical_columns:\n",
    "    bite[column].fillna('UNKNOWN', inplace=True)\n",
    "\n",
    "# Use a placeholder value or fill with nearby dates for date columns\n",
    "date_columns = ['head_sent_date', 'release_date']\n",
    "for column in date_columns:\n",
    "    bite[column].fillna('UNKNOWN', inplace=True)  # Or use forward/backward filling if applicable\n",
    "\n",
    "# Use \"Unknown\" for missing results or drop rows with missing values\n",
    "bite['ResultsIDDesc'].fillna('NOT GIVEN', inplace=True)  # Or drop rows: df.dropna(subset=['ResultsIDDesc'], inplace=True)\n",
    "\n",
    "bite"
   ]
  },
  {
   "cell_type": "code",
   "execution_count": 202,
   "id": "c3416c94-6058-43eb-9cad-7be246c285ea",
   "metadata": {},
   "outputs": [
    {
     "name": "stdout",
     "output_type": "stream",
     "text": [
      "Accuracy: 0.9727928928373126\n",
      "Coefficients: [[-1.88255671e-01 -4.21236246e-01  3.74648631e-01 ... -4.71685211e-04\n",
      "  -2.33144594e-04 -7.33916414e-01]\n",
      " [ 2.39916095e-01 -1.00723795e+00  3.45971824e-01 ...  4.48197583e-04\n",
      "   2.08294471e-04 -8.07824003e-01]\n",
      " [-1.72347739e-02  6.00352009e-01 -2.18871959e-01 ...  1.27680453e-06\n",
      "   3.13834026e-06 -2.47100307e-02]\n",
      " [-3.44256502e-02  8.28122183e-01 -5.01748496e-01 ...  2.22108234e-05\n",
      "   2.17117828e-05  1.56645045e+00]]\n",
      "Intercept: [ 2.80446041  0.55846749 -3.10657382 -0.25635409]\n"
     ]
    },
    {
     "name": "stderr",
     "output_type": "stream",
     "text": [
      "c:\\users\\ryanc\\appdata\\local\\programs\\python\\python38\\lib\\site-packages\\sklearn\\linear_model\\_logistic.py:460: ConvergenceWarning:\n",
      "\n",
      "lbfgs failed to converge (status=1):\n",
      "STOP: TOTAL NO. of ITERATIONS REACHED LIMIT.\n",
      "\n",
      "Increase the number of iterations (max_iter) or scale the data as shown in:\n",
      "    https://scikit-learn.org/stable/modules/preprocessing.html\n",
      "Please also refer to the documentation for alternative solver options:\n",
      "    https://scikit-learn.org/stable/modules/linear_model.html#logistic-regression\n",
      "\n"
     ]
    }
   ],
   "source": [
    "# Log Reg\n",
    "\n",
    "import pandas as pd\n",
    "from sklearn.model_selection import train_test_split\n",
    "from sklearn.linear_model import LogisticRegression\n",
    "from sklearn.metrics import accuracy_score\n",
    "from sklearn.preprocessing import MinMaxScaler\n",
    "\n",
    "# Exclude 'ResultsIDDesc' column\n",
    "X_subset = bite.drop(columns=['ResultsIDDesc', 'bite_date'])\n",
    "\n",
    "# Create dummy variables for remaining columns\n",
    "X = pd.get_dummies(X_subset)\n",
    "\n",
    "# Y: outcome variable\n",
    "y = bite['ResultsIDDesc']\n",
    "\n",
    "# Split the data into training and testing sets\n",
    "X_train, X_test, y_train, y_test = train_test_split(X, y, test_size=0.2, random_state=42)\n",
    "\n",
    "scaler = MinMaxScaler()\n",
    "X_train = scaler.fit_transform(X_train)\n",
    "X_test = scaler.transform(X_test)\n",
    "\n",
    "# Create a logistic regression model\n",
    "model = LogisticRegression()\n",
    "\n",
    "# Train the model on the training data\n",
    "model.fit(X_train, y_train)\n",
    "\n",
    "# Predict on the testing data\n",
    "y_pred = model.predict(X_test)\n",
    "\n",
    "# Evaluate the accuracy of the model\n",
    "accuracy = accuracy_score(y_test, y_pred)\n",
    "print(\"Accuracy:\", accuracy)\n",
    "\n",
    "coef = model.coef_\n",
    "intercept = model.intercept_\n",
    "print(\"Coefficients:\", coef)\n",
    "print(\"Intercept:\", intercept)"
   ]
  },
  {
   "cell_type": "code",
   "execution_count": 203,
   "id": "d739d124-8687-403c-a035-a40c070a26cd",
   "metadata": {},
   "outputs": [
    {
     "data": {
      "text/html": [
       "<div>\n",
       "<style scoped>\n",
       "    .dataframe tbody tr th:only-of-type {\n",
       "        vertical-align: middle;\n",
       "    }\n",
       "\n",
       "    .dataframe tbody tr th {\n",
       "        vertical-align: top;\n",
       "    }\n",
       "\n",
       "    .dataframe thead th {\n",
       "        text-align: right;\n",
       "    }\n",
       "</style>\n",
       "<table border=\"1\" class=\"dataframe\">\n",
       "  <thead>\n",
       "    <tr style=\"text-align: right;\">\n",
       "      <th></th>\n",
       "      <th>Feature</th>\n",
       "      <th>Coefficient</th>\n",
       "    </tr>\n",
       "  </thead>\n",
       "  <tbody>\n",
       "    <tr>\n",
       "      <th>4105</th>\n",
       "      <td>head_sent_date_UNKNOWN</td>\n",
       "      <td>-3.131589</td>\n",
       "    </tr>\n",
       "    <tr>\n",
       "      <th>84</th>\n",
       "      <td>BreedIDDesc_PIT BULL</td>\n",
       "      <td>-1.113374</td>\n",
       "    </tr>\n",
       "    <tr>\n",
       "      <th>3029</th>\n",
       "      <td>victim_zip_40214</td>\n",
       "      <td>-0.892764</td>\n",
       "    </tr>\n",
       "    <tr>\n",
       "      <th>3997</th>\n",
       "      <td>head_sent_date_2016-07-22 00:00:00</td>\n",
       "      <td>-0.850690</td>\n",
       "    </tr>\n",
       "    <tr>\n",
       "      <th>4005</th>\n",
       "      <td>head_sent_date_2016-08-03 00:00:00</td>\n",
       "      <td>-0.819975</td>\n",
       "    </tr>\n",
       "    <tr>\n",
       "      <th>...</th>\n",
       "      <td>...</td>\n",
       "      <td>...</td>\n",
       "    </tr>\n",
       "    <tr>\n",
       "      <th>3045</th>\n",
       "      <td>victim_zip_40243</td>\n",
       "      <td>0.724630</td>\n",
       "    </tr>\n",
       "    <tr>\n",
       "      <th>4246</th>\n",
       "      <td>release_date_2015-09-01 00:00:00</td>\n",
       "      <td>0.794716</td>\n",
       "    </tr>\n",
       "    <tr>\n",
       "      <th>3168</th>\n",
       "      <td>AdvIssuedYNDesc_UNKNOWN</td>\n",
       "      <td>0.796271</td>\n",
       "    </tr>\n",
       "    <tr>\n",
       "      <th>2933</th>\n",
       "      <td>vaccination_date_UNKNOWN</td>\n",
       "      <td>0.801265</td>\n",
       "    </tr>\n",
       "    <tr>\n",
       "      <th>4533</th>\n",
       "      <td>release_date_2016-12-28 00:00:00</td>\n",
       "      <td>0.921760</td>\n",
       "    </tr>\n",
       "  </tbody>\n",
       "</table>\n",
       "<p>4689 rows × 2 columns</p>\n",
       "</div>"
      ],
      "text/plain": [
       "                                 Feature  Coefficient\n",
       "4105              head_sent_date_UNKNOWN    -3.131589\n",
       "84                  BreedIDDesc_PIT BULL    -1.113374\n",
       "3029                    victim_zip_40214    -0.892764\n",
       "3997  head_sent_date_2016-07-22 00:00:00    -0.850690\n",
       "4005  head_sent_date_2016-08-03 00:00:00    -0.819975\n",
       "...                                  ...          ...\n",
       "3045                    victim_zip_40243     0.724630\n",
       "4246    release_date_2015-09-01 00:00:00     0.794716\n",
       "3168             AdvIssuedYNDesc_UNKNOWN     0.796271\n",
       "2933            vaccination_date_UNKNOWN     0.801265\n",
       "4533    release_date_2016-12-28 00:00:00     0.921760\n",
       "\n",
       "[4689 rows x 2 columns]"
      ]
     },
     "execution_count": 203,
     "metadata": {},
     "output_type": "execute_result"
    }
   ],
   "source": [
    "coefficients = model.coef_[0]\n",
    "\n",
    "feature_names = X.columns\n",
    "coefficient_dict = dict(zip(feature_names, coefficients))\n",
    "\n",
    "# Sort the dictionary by coefficient values in ascending order\n",
    "sorted_coefficients_asc = sorted(coefficient_dict.items(), key=lambda x: x[1])\n",
    "\n",
    "# Convert the dictionary to a DataFrame\n",
    "df_coefficients = pd.DataFrame(list(coefficient_dict.items()), columns=['Feature', 'Coefficient'])\n",
    "\n",
    "# Sort the DataFrame by coefficient values in ascending order\n",
    "df_coefficients_sorted = df_coefficients.sort_values(by='Coefficient', ascending=True)\n",
    "\n",
    "df_coefficients_sorted"
   ]
  },
  {
   "cell_type": "code",
   "execution_count": 204,
   "id": "a4cb3aae-aba9-4005-a5d9-de0dadc683c9",
   "metadata": {},
   "outputs": [
    {
     "data": {
      "text/html": [
       "<div>\n",
       "<style scoped>\n",
       "    .dataframe tbody tr th:only-of-type {\n",
       "        vertical-align: middle;\n",
       "    }\n",
       "\n",
       "    .dataframe tbody tr th {\n",
       "        vertical-align: top;\n",
       "    }\n",
       "\n",
       "    .dataframe thead th {\n",
       "        text-align: right;\n",
       "    }\n",
       "</style>\n",
       "<table border=\"1\" class=\"dataframe\">\n",
       "  <thead>\n",
       "    <tr style=\"text-align: right;\">\n",
       "      <th></th>\n",
       "      <th>Feature</th>\n",
       "      <th>Coefficient</th>\n",
       "    </tr>\n",
       "  </thead>\n",
       "  <tbody>\n",
       "    <tr>\n",
       "      <th>1</th>\n",
       "      <td>SpeciesIDDesc_BAT</td>\n",
       "      <td>-0.421236</td>\n",
       "    </tr>\n",
       "    <tr>\n",
       "      <th>7</th>\n",
       "      <td>SpeciesIDDesc_RABBIT</td>\n",
       "      <td>-0.329526</td>\n",
       "    </tr>\n",
       "    <tr>\n",
       "      <th>3</th>\n",
       "      <td>SpeciesIDDesc_DOG</td>\n",
       "      <td>-0.213970</td>\n",
       "    </tr>\n",
       "    <tr>\n",
       "      <th>5</th>\n",
       "      <td>SpeciesIDDesc_HORSE</td>\n",
       "      <td>-0.023588</td>\n",
       "    </tr>\n",
       "    <tr>\n",
       "      <th>4</th>\n",
       "      <td>SpeciesIDDesc_FERRET</td>\n",
       "      <td>-0.006829</td>\n",
       "    </tr>\n",
       "    <tr>\n",
       "      <th>9</th>\n",
       "      <td>SpeciesIDDesc_SKUNK</td>\n",
       "      <td>-0.004880</td>\n",
       "    </tr>\n",
       "    <tr>\n",
       "      <th>6</th>\n",
       "      <td>SpeciesIDDesc_OTHER</td>\n",
       "      <td>0.045172</td>\n",
       "    </tr>\n",
       "    <tr>\n",
       "      <th>2</th>\n",
       "      <td>SpeciesIDDesc_CAT</td>\n",
       "      <td>0.374649</td>\n",
       "    </tr>\n",
       "    <tr>\n",
       "      <th>8</th>\n",
       "      <td>SpeciesIDDesc_RACCOON</td>\n",
       "      <td>0.516697</td>\n",
       "    </tr>\n",
       "  </tbody>\n",
       "</table>\n",
       "</div>"
      ],
      "text/plain": [
       "                 Feature  Coefficient\n",
       "1      SpeciesIDDesc_BAT    -0.421236\n",
       "7   SpeciesIDDesc_RABBIT    -0.329526\n",
       "3      SpeciesIDDesc_DOG    -0.213970\n",
       "5    SpeciesIDDesc_HORSE    -0.023588\n",
       "4   SpeciesIDDesc_FERRET    -0.006829\n",
       "9    SpeciesIDDesc_SKUNK    -0.004880\n",
       "6    SpeciesIDDesc_OTHER     0.045172\n",
       "2      SpeciesIDDesc_CAT     0.374649\n",
       "8  SpeciesIDDesc_RACCOON     0.516697"
      ]
     },
     "execution_count": 204,
     "metadata": {},
     "output_type": "execute_result"
    }
   ],
   "source": [
    "df_species_coefficients = df_coefficients_sorted[df_coefficients_sorted['Feature'].str.startswith('SpeciesIDDesc')]\n",
    "df_species_coefficients"
   ]
  },
  {
   "cell_type": "code",
   "execution_count": 205,
   "id": "f3283062-11b2-4712-8e1e-b87f4f42ae3d",
   "metadata": {},
   "outputs": [
    {
     "data": {
      "text/html": [
       "<div>\n",
       "<style scoped>\n",
       "    .dataframe tbody tr th:only-of-type {\n",
       "        vertical-align: middle;\n",
       "    }\n",
       "\n",
       "    .dataframe tbody tr th {\n",
       "        vertical-align: top;\n",
       "    }\n",
       "\n",
       "    .dataframe thead th {\n",
       "        text-align: right;\n",
       "    }\n",
       "</style>\n",
       "<table border=\"1\" class=\"dataframe\">\n",
       "  <thead>\n",
       "    <tr style=\"text-align: right;\">\n",
       "      <th></th>\n",
       "      <th>Feature</th>\n",
       "      <th>Coefficient</th>\n",
       "    </tr>\n",
       "  </thead>\n",
       "  <tbody>\n",
       "    <tr>\n",
       "      <th>84</th>\n",
       "      <td>BreedIDDesc_PIT BULL</td>\n",
       "      <td>-1.113374</td>\n",
       "    </tr>\n",
       "    <tr>\n",
       "      <th>51</th>\n",
       "      <td>BreedIDDesc_DALMATIAN</td>\n",
       "      <td>-0.199605</td>\n",
       "    </tr>\n",
       "    <tr>\n",
       "      <th>42</th>\n",
       "      <td>BreedIDDesc_CHICHAUHUA</td>\n",
       "      <td>-0.082712</td>\n",
       "    </tr>\n",
       "    <tr>\n",
       "      <th>50</th>\n",
       "      <td>BreedIDDesc_DACHSHUND</td>\n",
       "      <td>-0.060171</td>\n",
       "    </tr>\n",
       "    <tr>\n",
       "      <th>62</th>\n",
       "      <td>BreedIDDesc_GOLD RETRIEVER</td>\n",
       "      <td>-0.047172</td>\n",
       "    </tr>\n",
       "    <tr>\n",
       "      <th>...</th>\n",
       "      <td>...</td>\n",
       "      <td>...</td>\n",
       "    </tr>\n",
       "    <tr>\n",
       "      <th>99</th>\n",
       "      <td>BreedIDDesc_SHIH TZU</td>\n",
       "      <td>0.137299</td>\n",
       "    </tr>\n",
       "    <tr>\n",
       "      <th>29</th>\n",
       "      <td>BreedIDDesc_BORDER COLLIE</td>\n",
       "      <td>0.146378</td>\n",
       "    </tr>\n",
       "    <tr>\n",
       "      <th>73</th>\n",
       "      <td>BreedIDDesc_LABRADOR RETRIV</td>\n",
       "      <td>0.281147</td>\n",
       "    </tr>\n",
       "    <tr>\n",
       "      <th>78</th>\n",
       "      <td>BreedIDDesc_MASTIF</td>\n",
       "      <td>0.309243</td>\n",
       "    </tr>\n",
       "    <tr>\n",
       "      <th>44</th>\n",
       "      <td>BreedIDDesc_CHOW CHOW</td>\n",
       "      <td>0.332945</td>\n",
       "    </tr>\n",
       "  </tbody>\n",
       "</table>\n",
       "<p>101 rows × 2 columns</p>\n",
       "</div>"
      ],
      "text/plain": [
       "                        Feature  Coefficient\n",
       "84         BreedIDDesc_PIT BULL    -1.113374\n",
       "51        BreedIDDesc_DALMATIAN    -0.199605\n",
       "42       BreedIDDesc_CHICHAUHUA    -0.082712\n",
       "50        BreedIDDesc_DACHSHUND    -0.060171\n",
       "62   BreedIDDesc_GOLD RETRIEVER    -0.047172\n",
       "..                          ...          ...\n",
       "99         BreedIDDesc_SHIH TZU     0.137299\n",
       "29    BreedIDDesc_BORDER COLLIE     0.146378\n",
       "73  BreedIDDesc_LABRADOR RETRIV     0.281147\n",
       "78           BreedIDDesc_MASTIF     0.309243\n",
       "44        BreedIDDesc_CHOW CHOW     0.332945\n",
       "\n",
       "[101 rows x 2 columns]"
      ]
     },
     "execution_count": 205,
     "metadata": {},
     "output_type": "execute_result"
    }
   ],
   "source": [
    "df_coefficients_sorted[df_coefficients_sorted['Feature'].str.startswith('BreedIDDesc')]"
   ]
  },
  {
   "cell_type": "code",
   "execution_count": 206,
   "id": "9ebc2406-1108-41c6-9d2f-601c29e998d4",
   "metadata": {},
   "outputs": [
    {
     "data": {
      "image/png": "[encoded data removed]",
      "text/plain": [
       "<Figure size 1000x600 with 1 Axes>"
      ]
     },
     "metadata": {},
     "output_type": "display_data"
    }
   ],
   "source": [
    "bite_no_unknown = bite[bite['ResultsIDDesc'] != 'UNKNOWN']\n",
    "# count_df = bite_no_unknown.groupby(['SpeciesIDDesc', 'ResultsIDDesc']).size().reset_index(name='Count')\n",
    "count_df = bite.groupby(['SpeciesIDDesc', 'ResultsIDDesc']).size().reset_index(name='Count')\n",
    "\n",
    "# Plot the bar chart using seaborn\n",
    "plt.figure(figsize=(10, 6))\n",
    "sns.barplot(data=count_df, x='SpeciesIDDesc', y='Count', hue='ResultsIDDesc')\n",
    "plt.xticks(rotation=45, ha='right')\n",
    "plt.xlabel('SpeciesIDDesc')\n",
    "plt.ylabel('Count')\n",
    "plt.title('Animal Bite Incidents by Species and Result')\n",
    "plt.tight_layout()\n",
    "plt.show()"
   ]
  },
  {
   "cell_type": "code",
   "execution_count": 147,
   "id": "1c766282-e173-4052-bdee-82cdde8899f1",
   "metadata": {},
   "outputs": [
    {
     "data": {
      "text/plain": [
       "ResultsIDDesc\n",
       "UNKNOWN     1240\n",
       "NEGATIVE     299\n",
       "POSITIVE       4\n",
       "Name: count, dtype: int64"
      ]
     },
     "execution_count": 147,
     "metadata": {},
     "output_type": "execute_result"
    }
   ],
   "source": [
    "bite['ResultsIDDesc'].value_counts()"
   ]
  },
  {
   "cell_type": "code",
   "execution_count": 192,
   "id": "7154349a-79df-44c8-9ac5-c1f070381af9",
   "metadata": {},
   "outputs": [],
   "source": [
    "# reset button\n",
    "bite = pd.read_csv('Health_AnimalBites.csv')"
   ]
  },
  {
   "cell_type": "code",
   "execution_count": 195,
   "id": "d7a50a40-c1f7-439f-9beb-1fd1b4893094",
   "metadata": {},
   "outputs": [
    {
     "data": {
      "image/png": "[encoded data removed]",
      "text/plain": [
       "<Figure size 1200x600 with 1 Axes>"
      ]
     },
     "metadata": {},
     "output_type": "display_data"
    }
   ],
   "source": [
    "# Timeline of Bites (Daily)\n",
    "\n",
    "# from ipywidgets import interact, widgets\n",
    "\n",
    "# need to reset everytime for some reason\n",
    "bite = pd.read_csv('Health_AnimalBites.csv')\n",
    "\n",
    "### FIX DATE ERRORS\n",
    "bite.loc[1384, 'bite_date'] = pd.Timestamp('2013-07-15')\n",
    "bite.loc[1385, 'bite_date'] = pd.Timestamp('2013-07-15')\n",
    "\n",
    "# Convert 'bite_date' to datetime if it's not already in datetime format\n",
    "bite['bite_date'] = pd.to_datetime(bite['bite_date'], errors='coerce')\n",
    "\n",
    "### FIX MORE DATE ERRORS\n",
    "\n",
    "# Identify rows where 'bite_date' is beyond 2024\n",
    "rows_beyond_2024 = bite[bite['bite_date'].dt.year > 2024]\n",
    "\n",
    "# Replace the year with 2001 for the identified rows\n",
    "bite.loc[rows_beyond_2024.index, 'bite_date'] = bite.loc[rows_beyond_2024.index, 'bite_date'].apply(lambda x: x.replace(year=2001))\n",
    "\n",
    "\n",
    "# # Drop rows with NaT (Not a Time) values, which represent out-of-range datetime values\n",
    "# bite.dropna(subset=['bite_date'], inplace=True)\n",
    "\n",
    "# Set 'bite_date' as the index\n",
    "bite.set_index('bite_date', inplace=True)\n",
    "\n",
    "# Resample the data to daily frequency and count the number of bites per day\n",
    "daily_distribution = bite.resample('D').size()\n",
    "\n",
    "# Define the start and end dates\n",
    "start_date = '2010-12-31'\n",
    "end_date = '2016-01-01'\n",
    "\n",
    "# Convert start_date and end_date to datetime objects\n",
    "start_date = pd.to_datetime(start_date)\n",
    "end_date = pd.to_datetime(end_date)\n",
    "\n",
    "# Plot the distribution\n",
    "plt.figure(figsize=(12, 6))\n",
    "daily_distribution.plot(color='skyblue')\n",
    "plt.title('Distribution of Bites Over Time (Daily)')\n",
    "plt.xlabel('Date')\n",
    "plt.ylabel('Number of Bites')\n",
    "plt.grid(axis='y', linestyle='--', alpha=0.7)\n",
    "\n",
    "plt.xlim(start_date, end_date) #remove if you don't want to limit the graph\n",
    "\n",
    "plt.show()"
   ]
  },
  {
   "cell_type": "code",
   "execution_count": 199,
   "id": "ee3579ec-1081-4101-a07b-decee12aea08",
   "metadata": {},
   "outputs": [
    {
     "data": {
      "image/png": "[encoded data removed]",
      "text/plain": [
       "<Figure size 1200x600 with 1 Axes>"
      ]
     },
     "metadata": {},
     "output_type": "display_data"
    }
   ],
   "source": [
    "# Timeline of Bites (Monthly)\n",
    "\n",
    "# Resample the data to daily frequency and count the number of bites per month\n",
    "daily_distribution = bite.resample('M').size()\n",
    "\n",
    "# Define the start and end dates\n",
    "start_date = '2010-12-31'\n",
    "end_date = '2016-01-01'\n",
    "\n",
    "# Convert start_date and end_date to datetime objects\n",
    "start_date = pd.to_datetime(start_date)\n",
    "end_date = pd.to_datetime(end_date)\n",
    "\n",
    "# Plot the distribution\n",
    "plt.figure(figsize=(12, 6))\n",
    "daily_distribution.plot(color='skyblue')\n",
    "plt.title('Distribution of Bites Over Time (Monthly)')\n",
    "plt.xlabel('Date')\n",
    "plt.ylabel('Number of Bites')\n",
    "plt.grid(axis='y', linestyle='--', alpha=0.7)\n",
    "\n",
    "plt.xlim(start_date, end_date) #remove if you don't want to limit the graph\n",
    "plt.ylim(0, 180) #remove if you don't want to limit the graph\n",
    "\n",
    "plt.show()"
   ]
  },
  {
   "cell_type": "code",
   "execution_count": null,
   "id": "7f400877-da68-44b9-aa35-1bdf2485ae62",
   "metadata": {},
   "outputs": [],
   "source": []
  }
 ],
 "metadata": {
  "kernelspec": {
   "display_name": "Python 3 (ipykernel)",
   "language": "python",
   "name": "python3"
  },
  "language_info": {
   "codemirror_mode": {
    "name": "ipython",
    "version": 3
   },
   "file_extension": ".py",
   "mimetype": "text/x-python",
   "name": "python",
   "nbconvert_exporter": "python",
   "pygments_lexer": "ipython3",
   "version": "3.8.5"
  }
 },
 "nbformat": 4,
 "nbformat_minor": 5
}
